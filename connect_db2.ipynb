{
 "cells": [
  {
   "cell_type": "code",
   "execution_count": 2,
   "id": "732cdab3-8f93-4059-80ca-435d483e2ad9",
   "metadata": {
    "tags": []
   },
   "outputs": [],
   "source": [
    "import ibm_db"
   ]
  },
  {
   "cell_type": "code",
   "execution_count": 3,
   "id": "039d0b6b-41c1-4ef2-8df3-81b3b1657b3f",
   "metadata": {
    "tags": []
   },
   "outputs": [],
   "source": [
    "dsn_hostname = \"1bbf73c5-d84a-4bb0-85b9-ab1a4348f4a4.c3n41cmd0nqnrk39u98g.databases.appdomain.cloud\"\n",
    "dsn_uid = \"qzf43812\"\n",
    "dsn_pwd = \"eHOIumVicBjYwRzk\"\n",
    "\n",
    "dsn_driver = \"{IBM DB2 ODBC DRIVER}\"\n",
    "dsn_database = \"/bludb\"\n",
    "dsn_port = \"32286\"\n",
    "dsn_protocol = \"TCPIP\"\n",
    "dsn_security = \"SSL\"\n"
   ]
  },
  {
   "cell_type": "code",
   "execution_count": 4,
   "id": "84b48861-06ee-4e1c-9bde-53a7f7039e16",
   "metadata": {
    "tags": []
   },
   "outputs": [
    {
     "name": "stdout",
     "output_type": "stream",
     "text": [
      "Unable to connect:  [IBM][CLI Driver] SQL30081N  A communication error has been detected. Communication protocol being used: \"SSL\".  Communication API being used: \"SOCKETS\".  Location where the error was detected: \"\".  Communication function detecting the error: \"sqlccSSLSocketRead\".  Protocol specific error code(s): \"420\", \"*\", \"*\".  SQLSTATE=08001 SQLCODE=-30081\n"
     ]
    }
   ],
   "source": [
    "dsn = (\n",
    "    \"DRIVER={0};\"\n",
    "    \"DATABASE={1};\"\n",
    "    \"HOSTNAME={2};\"\n",
    "    \"PORT={3};\"\n",
    "    \"PROTOCOL={4};\"\n",
    "    \"UID={5};\"\n",
    "    \"PWD={6};\"\n",
    "    \"SECURITY={7};\").format(dsn_driver, dsn_database, dsn_hostname, dsn_port, dsn_protocol, dsn_uid, dsn_pwd,dsn_security)\n",
    "\n",
    "try:\n",
    "    conn = ibm_db.connect(dsn, \"\", \"\")\n",
    "    print (\"Connected to database: \", dsn_database, \"as user: \", dsn_uid, \"on host: \", dsn_hostname)\n",
    "\n",
    "except:\n",
    "    print (\"Unable to connect: \", ibm_db.conn_errormsg() )\n"
   ]
  },
  {
   "cell_type": "code",
   "execution_count": null,
   "id": "9cd7f1ac-d622-4bfd-8c1b-12a7c6c660d8",
   "metadata": {},
   "outputs": [],
   "source": []
  }
 ],
 "metadata": {
  "kernelspec": {
   "display_name": "Python",
   "language": "python",
   "name": "conda-env-python-py"
  },
  "language_info": {
   "codemirror_mode": {
    "name": "ipython",
    "version": 3
   },
   "file_extension": ".py",
   "mimetype": "text/x-python",
   "name": "python",
   "nbconvert_exporter": "python",
   "pygments_lexer": "ipython3",
   "version": "3.7.12"
  }
 },
 "nbformat": 4,
 "nbformat_minor": 5
}
